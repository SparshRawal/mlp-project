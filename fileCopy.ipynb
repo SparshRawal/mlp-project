{
 "cells": [
  {
   "cell_type": "code",
   "execution_count": 21,
   "metadata": {},
   "outputs": [
    {
     "name": "stdout",
     "output_type": "stream",
     "text": [
      "Files are copied successfully\n"
     ]
    }
   ],
   "source": [
    "import os\n",
    "import shutil\n",
    "\n",
    "# Providing the folder path\n",
    "origin = 'archive\\\\thumbnails\\images'\n",
    "target = 'dataset-v3'\n",
    "\n",
    "# Fetching the list of all the files\n",
    "files = os.listdir(origin)\n",
    "\n",
    "# Fetching all the files to directory\n",
    "i=1\n",
    "for file_name in files:\n",
    "    path = origin+'\\\\'+file_name\n",
    "    for img in os.listdir(path): \n",
    "        # print(img)\n",
    "        shutil.copy2(path+'\\\\'+img,target)\n",
    "        print(i , end='\\r')\n",
    "        i+=1\n",
    "print(\"Files are copied successfully\")"
   ]
  }
 ],
 "metadata": {
  "kernelspec": {
   "display_name": "MlpDev",
   "language": "python",
   "name": "python3"
  },
  "language_info": {
   "name": "python",
   "version": "3.10.9"
  },
  "orig_nbformat": 4
 },
 "nbformat": 4,
 "nbformat_minor": 2
}
